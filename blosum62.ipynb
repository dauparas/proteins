{
  "nbformat": 4,
  "nbformat_minor": 0,
  "metadata": {
    "colab": {
      "name": "blosum62.ipynb",
      "provenance": [],
      "collapsed_sections": [],
      "authorship_tag": "ABX9TyOzJ06k3K3ogaE0xi8LBrCH",
      "include_colab_link": true
    },
    "kernelspec": {
      "name": "python3",
      "display_name": "Python 3"
    }
  },
  "cells": [
    {
      "cell_type": "markdown",
      "metadata": {
        "id": "view-in-github",
        "colab_type": "text"
      },
      "source": [
        "<a href=\"https://colab.research.google.com/github/dauparas/proteins/blob/master/blosum62.ipynb\" target=\"_parent\"><img src=\"https://colab.research.google.com/assets/colab-badge.svg\" alt=\"Open In Colab\"/></a>"
      ]
    },
    {
      "cell_type": "markdown",
      "metadata": {
        "id": "E_M8oCJv3pEo",
        "colab_type": "text"
      },
      "source": [
        "Use BLOSUM62 matrix to define a soft label loss."
      ]
    },
    {
      "cell_type": "markdown",
      "metadata": {
        "id": "JnWf82pv3m7S",
        "colab_type": "text"
      },
      "source": [
        "https://en.wikipedia.org/wiki/BLOSUM\n",
        "\n",
        "https://www.ncbi.nlm.nih.gov/pmc/articles/PMC50453/"
      ]
    },
    {
      "cell_type": "code",
      "metadata": {
        "id": "x2xITl4a3fvg",
        "colab_type": "code",
        "colab": {}
      },
      "source": [
        "import numpy as np\n",
        "import matplotlib.pyplot as plt"
      ],
      "execution_count": 0,
      "outputs": []
    },
    {
      "cell_type": "markdown",
      "metadata": {
        "id": "gKBxSXAeom3-",
        "colab_type": "text"
      },
      "source": [
        "Pairs of AA frequencies for Blosum62."
      ]
    },
    {
      "cell_type": "code",
      "metadata": {
        "id": "GjzIaaYPcU6P",
        "colab_type": "code",
        "colab": {}
      },
      "source": [
        "r20 = np.array([ 12627.73,   3939.43,   2993.54,   3278.68,   3390.37,   2905.57,   4232.85,   4539.45,   1616.69,  29832.35,  23617.94,   4824.05,   5761.66,   6419.39,   3102.50,   5877.26,   9070.39,    886.51,   3859.61,  24458.47], np.float32)\n",
        "r19 = np.array([3239.21,   2308.18,   1745.40,   1491.09,    862.22,   1684.00,   2168.88,   2079.76,   3790.82,   3443.82,   5505.85,   2489.43,   1423.89,  10562.84,   1126.86,   2566.42,   2346.22,   2211.24,  12765.13], np.float32)\n",
        "r18 = np.array([1003.70,    662.10,    402.65,    404.11,    360.67,    566.56,    660.02,   1015.14,    377.94,    901.59 ,  1824.09,    677.71,    495.17  , 2115.89  ,  352.63 ,   715.91 ,   712.02 ,  8060.58], np.float32)\n",
        "r17 = np.array([9264.29,   4435.93 ,  5571.65,   4724.65  , 2318.32 ,  3437.77   ,5106.27 ,  5446.48 ,  1853.12   ,6716.05  , 8281.94 ,  5847.29  ,2515.49 ,  2896.40 ,  3366.54,  11712.22 , 15591.62], np.float32)\n",
        "r16 = np.array([15579.38  , 5646.43  , 7840.40 ,  6985.53 ,  2599.50 ,  4717.08  , 7360.29  , 9553.90 ,  2753.84 ,  4291.98 ,  6049.14  , 7728.29 ,  2132.99 ,  2975.00 ,  4151.82 , 15680.23], np.float32)\n",
        "r15 = np.array([5374.35 ,  2386.63 ,  2143.28 ,  3083.07 ,   899.80 ,  2109.68 ,  3542.26  , 3398.98 ,  1190.29  , 2508.69 ,  3524.79 ,  3930.17 ,  1017.22  , 1308.84 , 23753.47], np.float32)\n",
        "r14 = np.array([4076.59 ,  2321.82  , 1868.88 ,  1894.29  , 1280.49  , 1351.88 ,  2122.42  , 2984.24  , 2019.30  , 7589.45 , 13492.91 ,  2364.01  , 2965.57, 22771.30], np.float32)\n",
        "r13 = np.array([3341.90  , 2001.08 ,  1319.20  , 1156.88  ,  939.80  , 1843.69  , 1692.11  , 1825.96   , 953.44  , 6249.52 , 12282.50  , 2264.38   ,5042.88], np.float32)\n",
        "r12 = np.array([8338.88 , 15533.06 ,  6080.29  , 6092.99  , 1248.97 ,  7716.37  ,10296.37 ,  6327.07 ,  2958.56 ,  3900.98  , 6138.15  ,20074.90], np.float32)\n",
        "r11 = np.array([11009.91  , 6028.42 ,  3411.38 ,  3787.90  , 3907.74  , 4030.19 ,  4990.96 ,  5198.87  , 2459.23 , 28361.76 , 46272.78], np.float32)\n",
        "r10 = np.array([7943.72 ,  3098.65 ,  2477.68  , 3076.61  , 2730.06 ,  2220.18 ,  3037.90 ,  3450.79 ,  1447.42  ,22975.42], np.float32)\n",
        "r9 = np.array([2759.96,  3091.55 ,  3563.41  , 2376.71  ,  572.50  , 2613.56 ,  3405.63  , 2387.39 , 11561.82], np.float32)\n",
        "r8 = np.array([14491.39,   4291.00,   7124.25,   6284.36  , 1917.42,   3409.41 ,  4829.16 , 47098.64], np.float32)\n",
        "r7 = np.array([7444.98,   6711.13 ,  5505.96 , 12248.73   , 955.29  , 8817.09,  20100.50], np.float32)\n",
        "r6 = np.array([4794.70 ,  6194.03  , 3813.41 ,  4106.64 ,   770.86 ,  9131.13], np.float32)\n",
        "r5 = np.array([3962.65,    980.88 ,  1092.50 ,   994.42  ,14864.71], np.float32)\n",
        "r4 = np.array([5400.73,   3953.21,   9269.63,  26504.98], np.float32)\n",
        "r3 = np.array([4857.14,   4930.09 , 17616.72], np.float32)\n",
        "r2 = np.array([5848.09 , 22123.18], np.float32)\n",
        "r1 = np.array([26782.81], np.float32)"
      ],
      "execution_count": 0,
      "outputs": []
    },
    {
      "cell_type": "code",
      "metadata": {
        "id": "mURP1RHDdC_O",
        "colab_type": "code",
        "colab": {}
      },
      "source": [
        "rr1 = np.concatenate([r1,np.zeros(19)])\n",
        "rr2 = np.concatenate([r2,np.zeros(18)])\n",
        "rr3 = np.concatenate([r3,np.zeros(17)])\n",
        "rr4 = np.concatenate([r4,np.zeros(16)])\n",
        "rr5 = np.concatenate([r5,np.zeros(15)])\n",
        "rr6 = np.concatenate([r6,np.zeros(14)])\n",
        "rr7 = np.concatenate([r7,np.zeros(13)])\n",
        "rr8 = np.concatenate([r8,np.zeros(12)])\n",
        "rr9 = np.concatenate([r9,np.zeros(11)])\n",
        "rr10 = np.concatenate([r10,np.zeros(10)])\n",
        "rr11 = np.concatenate([r11,np.zeros(9)])\n",
        "rr12 = np.concatenate([r12,np.zeros(8)])\n",
        "rr13 = np.concatenate([r13,np.zeros(7)])\n",
        "rr14 = np.concatenate([r14,np.zeros(6)])\n",
        "rr15 = np.concatenate([r15,np.zeros(5)])\n",
        "rr16 = np.concatenate([r16,np.zeros(4)])\n",
        "rr17 = np.concatenate([r17,np.zeros(3)])\n",
        "rr18 = np.concatenate([r18,np.zeros(2)])\n",
        "rr19 = np.concatenate([r19,np.zeros(1)])\n",
        "rr20 = r20"
      ],
      "execution_count": 0,
      "outputs": []
    },
    {
      "cell_type": "code",
      "metadata": {
        "id": "O9AgO4TogSES",
        "colab_type": "code",
        "colab": {}
      },
      "source": [
        "blosum62 = np.concatenate([rr1[:,None], rr2[:,None], rr3[:,None], rr4[:,None], rr5[:,None], rr6[:,None], rr7[:,None], rr8[:,None], rr9[:,None], rr10[:,None], rr11[:,None], rr12[:,None], rr13[:,None], rr14[:,None], rr15[:,None], rr16[:,None], rr17[:,None], rr18[:,None], rr19[:,None], rr20[:,None]], axis=-1)"
      ],
      "execution_count": 0,
      "outputs": []
    },
    {
      "cell_type": "code",
      "metadata": {
        "id": "X0pQdxbmhsnD",
        "colab_type": "code",
        "colab": {}
      },
      "source": [
        "f_ij = 0.5*(blosum62.T+blosum62)"
      ],
      "execution_count": 0,
      "outputs": []
    },
    {
      "cell_type": "code",
      "metadata": {
        "id": "j-ChQw_Oj1D9",
        "colab_type": "code",
        "colab": {}
      },
      "source": [
        "total_number_of_pairs = np.sum(f_ij)"
      ],
      "execution_count": 0,
      "outputs": []
    },
    {
      "cell_type": "code",
      "metadata": {
        "id": "MMlECusOj4Rb",
        "colab_type": "code",
        "colab": {
          "base_uri": "https://localhost:8080/",
          "height": 34
        },
        "outputId": "a81082aa-0deb-4e25-c83d-33b112765c10"
      },
      "source": [
        "total_number_of_pairs"
      ],
      "execution_count": 131,
      "outputs": [
        {
          "output_type": "execute_result",
          "data": {
            "text/plain": [
              "1245852.5342712402"
            ]
          },
          "metadata": {
            "tags": []
          },
          "execution_count": 131
        }
      ]
    },
    {
      "cell_type": "code",
      "metadata": {
        "id": "QPSFI5TRicAn",
        "colab_type": "code",
        "colab": {}
      },
      "source": [
        "p_i = np.array([0.074, 0.052, 0.045, 0.054, 0.025, 0.034, 0.054, 0.074, 0.026, 0.068, 0.099, 0.058, 0.025, 0.047, 0.039, 0.057, 0.051, 0.013, 0.032, 0.073], np.float32)"
      ],
      "execution_count": 0,
      "outputs": []
    },
    {
      "cell_type": "code",
      "metadata": {
        "id": "LmcYBITjky25",
        "colab_type": "code",
        "colab": {
          "base_uri": "https://localhost:8080/",
          "height": 34
        },
        "outputId": "9e8480a9-805c-4459-d905-47fc23c4e312"
      },
      "source": [
        "np.sum(f_ij[0,:])/total_number_of_pairs"
      ],
      "execution_count": 137,
      "outputs": [
        {
          "output_type": "execute_result",
          "data": {
            "text/plain": [
              "0.07421621594883439"
            ]
          },
          "metadata": {
            "tags": []
          },
          "execution_count": 137
        }
      ]
    },
    {
      "cell_type": "code",
      "metadata": {
        "id": "S264OLIWk3jh",
        "colab_type": "code",
        "colab": {
          "base_uri": "https://localhost:8080/",
          "height": 34
        },
        "outputId": "a64573fb-38d6-4049-edfd-e51542d8bc9e"
      },
      "source": [
        "np.sum(f_ij[1,:])/total_number_of_pairs"
      ],
      "execution_count": 138,
      "outputs": [
        {
          "output_type": "execute_result",
          "data": {
            "text/plain": [
              "0.05161448273351782"
            ]
          },
          "metadata": {
            "tags": []
          },
          "execution_count": 138
        }
      ]
    },
    {
      "cell_type": "code",
      "metadata": {
        "id": "MZGIICOak4lO",
        "colab_type": "code",
        "colab": {
          "base_uri": "https://localhost:8080/",
          "height": 34
        },
        "outputId": "836fd176-9311-4057-ea7d-51b70b66192e"
      },
      "source": [
        "np.sum(f_ij[2,:])/total_number_of_pairs"
      ],
      "execution_count": 139,
      "outputs": [
        {
          "output_type": "execute_result",
          "data": {
            "text/plain": [
              "0.04464580586204264"
            ]
          },
          "metadata": {
            "tags": []
          },
          "execution_count": 139
        }
      ]
    },
    {
      "cell_type": "code",
      "metadata": {
        "id": "PQed0aAnka0Y",
        "colab_type": "code",
        "colab": {}
      },
      "source": [
        "number_of_AA = np.array([72060,    47671 ,   38063  ,  48555 ,   22533   , 31697  ,  54594  ,  77275 ,   22870  ,  57132  ,  84849  ,  51457  ,  22248  ,  40562  ,  39717  ,  54328   , 50667 ,   12772 ,   31580,    66446], np.float32)"
      ],
      "execution_count": 0,
      "outputs": []
    },
    {
      "cell_type": "code",
      "metadata": {
        "id": "1O4F3cX6imSI",
        "colab_type": "code",
        "colab": {}
      },
      "source": [
        "f_i = number_of_AA/np.sum(number_of_AA)"
      ],
      "execution_count": 0,
      "outputs": []
    },
    {
      "cell_type": "code",
      "metadata": {
        "id": "3VYB0cIuixUo",
        "colab_type": "code",
        "colab": {}
      },
      "source": [
        "p_ij = f_ij/np.sum(f_ij)"
      ],
      "execution_count": 0,
      "outputs": []
    },
    {
      "cell_type": "code",
      "metadata": {
        "id": "a21twjUdo4Ly",
        "colab_type": "code",
        "colab": {
          "base_uri": "https://localhost:8080/",
          "height": 1000
        },
        "outputId": "e42d8475-9aee-47d8-cb47-a1e4ef6a840c"
      },
      "source": [
        "p_ij"
      ],
      "execution_count": 169,
      "outputs": [
        {
          "output_type": "execute_result",
          "data": {
            "text/plain": [
              "array([[0.02149758, 0.00234702, 0.00194932, 0.00216748, 0.00159034,\n",
              "        0.00192426, 0.00298791, 0.00581585, 0.00110766, 0.00318807,\n",
              "        0.00441862, 0.00334666, 0.00134121, 0.00163606, 0.0021569 ,\n",
              "        0.0062525 , 0.00371805, 0.00040282, 0.0013    , 0.00506791],\n",
              "       [0.00234702, 0.01775746, 0.0019786 , 0.00158655, 0.00039366,\n",
              "        0.00248586, 0.00269339, 0.00172211, 0.00124074, 0.00124359,\n",
              "        0.0024194 , 0.00623391, 0.0008031 , 0.00093182, 0.00095783,\n",
              "        0.00226609, 0.00178028, 0.00026572, 0.00092635, 0.00158102],\n",
              "       [0.00194932, 0.0019786 , 0.01414029, 0.0037202 , 0.00043845,\n",
              "        0.00153044, 0.00220972, 0.00285919, 0.00143011, 0.00099437,\n",
              "        0.00136909, 0.00244021, 0.00052944, 0.00075004, 0.00086017,\n",
              "        0.0031466 , 0.00223608, 0.0001616 , 0.00070048, 0.0012014 ],\n",
              "       [0.00216748, 0.00158655, 0.0037202 , 0.02127457, 0.00039909,\n",
              "        0.00164812, 0.0049158 , 0.00252211, 0.00095385, 0.00123474,\n",
              "        0.0015202 , 0.00244531, 0.00046429, 0.00076024, 0.00123733,\n",
              "        0.00280351, 0.00189615, 0.00016218, 0.00059842, 0.00131584],\n",
              "       [0.00159034, 0.00039366, 0.00043845, 0.00039909, 0.01193136,\n",
              "        0.00030937, 0.00038339, 0.00076952, 0.00022976, 0.00109566,\n",
              "        0.0015683 , 0.00050125, 0.00037717, 0.0005139 , 0.00036112,\n",
              "        0.00104326, 0.00093042, 0.00014475, 0.00034604, 0.00136066],\n",
              "       [0.00192426, 0.00248586, 0.00153044, 0.00164812, 0.00030937,\n",
              "        0.00732922, 0.00353858, 0.0013683 , 0.0010489 , 0.00089103,\n",
              "        0.00161744, 0.00309682, 0.00073993, 0.00054255, 0.00084668,\n",
              "        0.00189311, 0.00137969, 0.00022738, 0.00067584, 0.0011661 ],\n",
              "       [0.00298791, 0.00269339, 0.00220972, 0.0049158 , 0.00038339,\n",
              "        0.00353858, 0.01613393, 0.00193809, 0.00136679, 0.00121921,\n",
              "        0.00200303, 0.00413226, 0.0006791 , 0.00085179, 0.00142162,\n",
              "        0.00295392, 0.00204931, 0.00026489, 0.00087044, 0.00169878],\n",
              "       [0.00581585, 0.00172211, 0.00285919, 0.00252211, 0.00076952,\n",
              "        0.0013683 , 0.00193809, 0.03780435, 0.00095814, 0.00138491,\n",
              "        0.00208647, 0.00253925, 0.00073282, 0.00119767, 0.00136412,\n",
              "        0.00383428, 0.00218584, 0.00040741, 0.00083467, 0.00182182],\n",
              "       [0.00110766, 0.00124074, 0.00143011, 0.00095385, 0.00022976,\n",
              "        0.0010489 , 0.00136679, 0.00095814, 0.00928025, 0.0005809 ,\n",
              "        0.00098697, 0.00118736, 0.00038265, 0.00081041, 0.0004777 ,\n",
              "        0.0011052 , 0.00074372, 0.00015168, 0.00152138, 0.00064883],\n",
              "       [0.00318807, 0.00124359, 0.00099437, 0.00123474, 0.00109566,\n",
              "        0.00089103, 0.00121921, 0.00138491, 0.0005809 , 0.01844152,\n",
              "        0.01138247, 0.00156559, 0.00250813, 0.00304589, 0.00100682,\n",
              "        0.00172251, 0.00269536, 0.00036184, 0.00138211, 0.01197266],\n",
              "       [0.00441862, 0.0024194 , 0.00136909, 0.0015202 , 0.0015683 ,\n",
              "        0.00161744, 0.00200303, 0.00208647, 0.00098697, 0.01138247,\n",
              "        0.03714146, 0.00246343, 0.00492936, 0.00541513, 0.00141461,\n",
              "        0.00242771, 0.0033238 , 0.00073206, 0.00220967, 0.00947863],\n",
              "       [0.00334666, 0.00623391, 0.00244021, 0.00244531, 0.00050125,\n",
              "        0.00309682, 0.00413226, 0.00253925, 0.00118736, 0.00156559,\n",
              "        0.00246343, 0.01611338, 0.00090877, 0.00094875, 0.0015773 ,\n",
              "        0.00310161, 0.0023467 , 0.00027199, 0.00099909, 0.00193604],\n",
              "       [0.00134121, 0.0008031 , 0.00052944, 0.00046429, 0.00037717,\n",
              "        0.00073993, 0.0006791 , 0.00073282, 0.00038265, 0.00250813,\n",
              "        0.00492936, 0.00090877, 0.00404773, 0.00119018, 0.00040824,\n",
              "        0.00085604, 0.00100955, 0.00019873, 0.00057145, 0.00231234],\n",
              "       [0.00163606, 0.00093182, 0.00075004, 0.00076024, 0.0005139 ,\n",
              "        0.00054255, 0.00085179, 0.00119767, 0.00081041, 0.00304589,\n",
              "        0.00541513, 0.00094875, 0.00119018, 0.01827769, 0.00052528,\n",
              "        0.00119396, 0.00116242, 0.00084917, 0.0042392 , 0.0025763 ],\n",
              "       [0.0021569 , 0.00095783, 0.00086017, 0.00123733, 0.00036112,\n",
              "        0.00084668, 0.00142162, 0.00136412, 0.0004777 , 0.00100682,\n",
              "        0.00141461, 0.0015773 , 0.00040824, 0.00052528, 0.01906604,\n",
              "        0.00166626, 0.0013511 , 0.00014152, 0.00045224, 0.00124513],\n",
              "       [0.0062525 , 0.00226609, 0.0031466 , 0.00280351, 0.00104326,\n",
              "        0.00189311, 0.00295392, 0.00383428, 0.0011052 , 0.00172251,\n",
              "        0.00242771, 0.00310161, 0.00085604, 0.00119396, 0.00166626,\n",
              "        0.01258594, 0.00470048, 0.00028732, 0.00102999, 0.00235873],\n",
              "       [0.00371805, 0.00178028, 0.00223608, 0.00189615, 0.00093042,\n",
              "        0.00137969, 0.00204931, 0.00218584, 0.00074372, 0.00269536,\n",
              "        0.0033238 , 0.0023467 , 0.00100955, 0.00116242, 0.0013511 ,\n",
              "        0.00470048, 0.01251482, 0.00028576, 0.00094161, 0.00364023],\n",
              "       [0.00040282, 0.00026572, 0.0001616 , 0.00016218, 0.00014475,\n",
              "        0.00022738, 0.00026489, 0.00040741, 0.00015168, 0.00036184,\n",
              "        0.00073206, 0.00027199, 0.00019873, 0.00084917, 0.00014152,\n",
              "        0.00028732, 0.00028576, 0.00646993, 0.00088744, 0.00035578],\n",
              "       [0.0013    , 0.00092635, 0.00070048, 0.00059842, 0.00034604,\n",
              "        0.00067584, 0.00087044, 0.00083467, 0.00152138, 0.00138211,\n",
              "        0.00220967, 0.00099909, 0.00057145, 0.0042392 , 0.00045224,\n",
              "        0.00102999, 0.00094161, 0.00088744, 0.0102461 , 0.00154898],\n",
              "       [0.00506791, 0.00158102, 0.0012014 , 0.00131584, 0.00136066,\n",
              "        0.0011661 , 0.00169878, 0.00182182, 0.00064883, 0.01197266,\n",
              "        0.00947863, 0.00193604, 0.00231234, 0.0025763 , 0.00124513,\n",
              "        0.00235873, 0.00364023, 0.00035578, 0.00154898, 0.01963191]])"
            ]
          },
          "metadata": {
            "tags": []
          },
          "execution_count": 169
        }
      ]
    },
    {
      "cell_type": "code",
      "metadata": {
        "id": "USUe-uBFmVax",
        "colab_type": "code",
        "colab": {
          "base_uri": "https://localhost:8080/",
          "height": 591
        },
        "outputId": "5ae4e6fa-78af-436f-d06b-3357289fd9f8"
      },
      "source": [
        "plt.figure(figsize=(10,10))\n",
        "plt.imshow(p_ij)\n",
        "plt.xticks(np.arange(20), alphabet)\n",
        "plt.yticks(np.arange(20), alphabet)\n",
        "plt.colorbar()"
      ],
      "execution_count": 154,
      "outputs": [
        {
          "output_type": "execute_result",
          "data": {
            "text/plain": [
              "<matplotlib.colorbar.Colorbar at 0x7f94fc68f1d0>"
            ]
          },
          "metadata": {
            "tags": []
          },
          "execution_count": 154
        },
        {
          "output_type": "display_data",
          "data": {
            "image/png": "[encoded data removed]",
            "text/plain": [
              "<Figure size 720x720 with 2 Axes>"
            ]
          },
          "metadata": {
            "tags": [],
            "needs_background": "light"
          }
        }
      ]
    },
    {
      "cell_type": "code",
      "metadata": {
        "id": "mwSYrb6emg87",
        "colab_type": "code",
        "colab": {
          "base_uri": "https://localhost:8080/",
          "height": 591
        },
        "outputId": "65036ddf-a986-4f53-86d9-9791a9cc200d"
      },
      "source": [
        "plt.figure(figsize=(10,10))\n",
        "plt.imshow(p_ij/np.sum(p_ij, axis=0)[None,:])\n",
        "plt.xticks(np.arange(20), alphabet)\n",
        "plt.yticks(np.arange(20), alphabet)\n",
        "plt.colorbar()"
      ],
      "execution_count": 157,
      "outputs": [
        {
          "output_type": "execute_result",
          "data": {
            "text/plain": [
              "<matplotlib.colorbar.Colorbar at 0x7f94fd90d400>"
            ]
          },
          "metadata": {
            "tags": []
          },
          "execution_count": 157
        },
        {
          "output_type": "display_data",
          "data": {
            "image/png": "[encoded data removed]",
            "text/plain": [
              "<Figure size 720x720 with 2 Axes>"
            ]
          },
          "metadata": {
            "tags": [],
            "needs_background": "light"
          }
        }
      ]
    },
    {
      "cell_type": "code",
      "metadata": {
        "id": "M9eh991-m0R5",
        "colab_type": "code",
        "colab": {
          "base_uri": "https://localhost:8080/",
          "height": 51
        },
        "outputId": "c9dfa5b5-c3f2-4cab-f8a7-73eda8fce9ef"
      },
      "source": [
        "np.sum(p_ij/np.sum(p_ij, axis=0)[None,:], axis=0) #rows sum to 1.0"
      ],
      "execution_count": 159,
      "outputs": [
        {
          "output_type": "execute_result",
          "data": {
            "text/plain": [
              "array([1., 1., 1., 1., 1., 1., 1., 1., 1., 1., 1., 1., 1., 1., 1., 1., 1.,\n",
              "       1., 1., 1.])"
            ]
          },
          "metadata": {
            "tags": []
          },
          "execution_count": 159
        }
      ]
    },
    {
      "cell_type": "code",
      "metadata": {
        "id": "AiyAjAucnIhX",
        "colab_type": "code",
        "colab": {
          "base_uri": "https://localhost:8080/",
          "height": 591
        },
        "outputId": "dd8c0d9d-6e5e-46ab-856b-cda61611f66d"
      },
      "source": [
        "plt.figure(figsize=(10,10))\n",
        "plt.imshow(p_ij/(np.sum(p_ij, axis=0)[None,:]*np.sum(p_ij, axis=1)[:,None]))\n",
        "plt.xticks(np.arange(20), alphabet)\n",
        "plt.yticks(np.arange(20), alphabet)\n",
        "plt.colorbar()"
      ],
      "execution_count": 160,
      "outputs": [
        {
          "output_type": "execute_result",
          "data": {
            "text/plain": [
              "<matplotlib.colorbar.Colorbar at 0x7f94fcb7b8d0>"
            ]
          },
          "metadata": {
            "tags": []
          },
          "execution_count": 160
        },
        {
          "output_type": "display_data",
          "data": {
            "image/png": "[encoded data removed]",
            "text/plain": [
              "<Figure size 720x720 with 2 Axes>"
            ]
          },
          "metadata": {
            "tags": [],
            "needs_background": "light"
          }
        }
      ]
    },
    {
      "cell_type": "code",
      "metadata": {
        "id": "-rA-LX2W4Z7-",
        "colab_type": "code",
        "colab": {}
      },
      "source": [
        "alphabet = 'ARNDCQEGHILKMFPSTWYV'"
      ],
      "execution_count": 0,
      "outputs": []
    },
    {
      "cell_type": "code",
      "metadata": {
        "id": "J5n19jCT3mOW",
        "colab_type": "code",
        "colab": {}
      },
      "source": [
        "blosum62 = np.array([\n",
        "[ 4, -1, -2, -2,  0, -1, -1,  0, -2, -1, -1, -1, -1, -2, -1,  1,  0, -3, -2,  0],\n",
        "[-1,  5,  0, -2, -3,  1,  0, -2,  0, -3, -2,  2, -1, -3, -2, -1, -1, -3, -2, -3],\n",
        "[-2,  0,  6,  1, -3,  0,  0,  0,  1, -3, -3,  0, -2, -3, -2,  1,  0, -4, -2, -3],\n",
        "[-2, -2,  1,  6, -3,  0,  2, -1, -1, -3, -4, -1, -3, -3, -1,  0, -1, -4, -3, -3],\n",
        "[ 0, -3, -3, -3,  9, -3, -4, -3, -3, -1, -1, -3, -1, -2, -3, -1, -1, -2, -2, -1],\n",
        "[-1,  1,  0,  0, -3,  5,  2, -2,  0, -3, -2,  1,  0, -3, -1,  0, -1, -2, -1, -2],\n",
        "[-1,  0,  0,  2, -4,  2,  5, -2,  0, -3, -3,  1, -2, -3, -1,  0, -1, -3, -2, -2],\n",
        "[ 0, -2,  0, -1, -3, -2, -2,  6, -2, -4, -4, -2, -3, -3, -2,  0, -2, -2, -3, -3],\n",
        "[-2,  0,  1, -1, -3,  0,  0, -2,  8, -3, -3, -1, -2, -1, -2, -1, -2, -2,  2, -3],\n",
        "[-1, -3, -3, -3, -1, -3, -3, -4, -3,  4,  2, -3,  1,  0, -3, -2, -1, -3, -1,  3],\n",
        "[-1, -2, -3, -4, -1, -2, -3, -4, -3,  2,  4, -2,  2,  0, -3, -2, -1, -2, -1,  1],\n",
        "[-1,  2,  0, -1, -3,  1,  1, -2, -1, -3, -2,  5, -1, -3, -1,  0, -1, -3, -2, -2],\n",
        "[-1, -1, -2, -3, -1,  0, -2, -3, -2,  1,  2, -1,  5,  0, -2, -1, -1, -1, -1,  1],\n",
        "[-2, -3, -3, -3, -2, -3, -3, -3, -1,  0,  0, -3,  0,  6, -4, -2, -2,  1,  3, -1],\n",
        "[-1, -2, -2, -1, -3, -1, -1, -2, -2, -3, -3, -1, -2, -4,  7, -1, -1, -4, -3, -2],\n",
        "[ 1, -1,  1,  0, -1,  0,  0,  0, -1, -2, -2,  0, -1, -2, -1,  4,  1, -3, -2, -2],\n",
        "[ 0, -1,  0, -1, -1, -1, -1, -2, -2, -1, -1, -1, -1, -2, -1,  1,  5, -2, -2,  0],\n",
        "[-3, -3, -4, -4, -2, -2, -3, -2, -2, -3, -2, -3, -1,  1, -4, -3, -2, 11,  2, -3],\n",
        "[-2, -2, -2, -3, -2, -1, -2, -3,  2, -1, -1, -2, -1,  3, -3, -2, -2,  2,  7, -1],\n",
        "[ 0, -3, -3, -3, -1, -2, -2, -3, -3,  3,  1, -2,  1, -1, -2, -2,  0, -3, -1,  4]])"
      ],
      "execution_count": 0,
      "outputs": []
    },
    {
      "cell_type": "code",
      "metadata": {
        "id": "-w3BAbf45RG0",
        "colab_type": "code",
        "outputId": "54109bf0-4aec-46c9-93a9-4a9e06296d21",
        "colab": {
          "base_uri": "https://localhost:8080/",
          "height": 706
        }
      },
      "source": [
        "plt.figure(figsize=(12,12))\n",
        "plt.imshow(blosum62)\n",
        "plt.xticks(np.arange(20), alphabet)\n",
        "plt.yticks(np.arange(20), alphabet)\n",
        "plt.colorbar()"
      ],
      "execution_count": 0,
      "outputs": [
        {
          "output_type": "execute_result",
          "data": {
            "text/plain": [
              "<matplotlib.colorbar.Colorbar at 0x7f94fd84ebe0>"
            ]
          },
          "metadata": {
            "tags": []
          },
          "execution_count": 17
        },
        {
          "output_type": "display_data",
          "data": {
            "image/png": "[encoded data removed]",
            "text/plain": [
              "<Figure size 864x864 with 2 Axes>"
            ]
          },
          "metadata": {
            "tags": [],
            "needs_background": "light"
          }
        }
      ]
    },
    {
      "cell_type": "code",
      "metadata": {
        "id": "L3PjSUDf3ydR",
        "colab_type": "code",
        "outputId": "beaef801-6952-499b-81b8-61289e9a5415",
        "colab": {
          "base_uri": "https://localhost:8080/",
          "height": 34
        }
      },
      "source": [
        "temperature = 2.0\n",
        "similarity_matrix = np.exp(blosum62/temperature)/np.sum(np.exp(blosum62/temperature), axis=-1)[:,None]\n",
        "np.sum(similarity_matrix[0,:])"
      ],
      "execution_count": 0,
      "outputs": [
        {
          "output_type": "execute_result",
          "data": {
            "text/plain": [
              "0.9999999999999999"
            ]
          },
          "metadata": {
            "tags": []
          },
          "execution_count": 51
        }
      ]
    },
    {
      "cell_type": "code",
      "metadata": {
        "id": "UIyPz7S43__P",
        "colab_type": "code",
        "outputId": "4621a40a-b46e-46b3-bbb5-62458de95b34",
        "colab": {
          "base_uri": "https://localhost:8080/",
          "height": 700
        }
      },
      "source": [
        "plt.figure(figsize=(12,12))\n",
        "plt.imshow(similarity_matrix)\n",
        "plt.xticks(np.arange(20), alphabet)\n",
        "plt.yticks(np.arange(20), alphabet)\n",
        "plt.title('rows sum to 1.0')\n",
        "plt.colorbar()"
      ],
      "execution_count": 0,
      "outputs": [
        {
          "output_type": "execute_result",
          "data": {
            "text/plain": [
              "<matplotlib.colorbar.Colorbar at 0x7f94fd0e42e8>"
            ]
          },
          "metadata": {
            "tags": []
          },
          "execution_count": 53
        },
        {
          "output_type": "display_data",
          "data": {
            "image/png": "[encoded data removed]",
            "text/plain": [
              "<Figure size 864x864 with 2 Axes>"
            ]
          },
          "metadata": {
            "tags": [],
            "needs_background": "light"
          }
        }
      ]
    },
    {
      "cell_type": "code",
      "metadata": {
        "id": "0U-26Yh44Dm-",
        "colab_type": "code",
        "outputId": "1361829b-0fc9-45e9-93c0-6f15465c77b5",
        "colab": {
          "base_uri": "https://localhost:8080/",
          "height": 85
        }
      },
      "source": [
        "np.diag(similarity_matrix)"
      ],
      "execution_count": 0,
      "outputs": [
        {
          "output_type": "execute_result",
          "data": {
            "text/plain": [
              "array([0.37033142, 0.48865494, 0.59505289, 0.63101735, 0.92154819,\n",
              "       0.43876768, 0.4416068 , 0.71679214, 0.80896847, 0.33321174,\n",
              "       0.35349173, 0.46495512, 0.45173483, 0.59782346, 0.81301554,\n",
              "       0.3294215 , 0.49250218, 0.96395878, 0.66659144, 0.33335154])"
            ]
          },
          "metadata": {
            "tags": []
          },
          "execution_count": 54
        }
      ]
    },
    {
      "cell_type": "code",
      "metadata": {
        "id": "nIhgZcoY5kZI",
        "colab_type": "code",
        "outputId": "6257de15-4d81-4b1c-b145-a6be2576ddc5",
        "colab": {
          "base_uri": "https://localhost:8080/",
          "height": 265
        }
      },
      "source": [
        "plt.plot(similarity_matrix[0,:],'*');\n",
        "plt.xticks(np.arange(20), alphabet);\n",
        "plt.ylabel('probability');"
      ],
      "execution_count": 0,
      "outputs": [
        {
          "output_type": "display_data",
          "data": {
            "image/png": "[encoded data removed]",
            "text/plain": [
              "<Figure size 432x288 with 1 Axes>"
            ]
          },
          "metadata": {
            "tags": [],
            "needs_background": "light"
          }
        }
      ]
    },
    {
      "cell_type": "code",
      "metadata": {
        "id": "iigIRtny6vA5",
        "colab_type": "code",
        "outputId": "f8c793b7-dab8-4c66-d9a7-31a463a6e12e",
        "colab": {
          "base_uri": "https://localhost:8080/",
          "height": 265
        }
      },
      "source": [
        "plt.plot(similarity_matrix[1,:],'*');\n",
        "plt.xticks(np.arange(20), alphabet);\n",
        "plt.ylabel('probability');"
      ],
      "execution_count": 0,
      "outputs": [
        {
          "output_type": "display_data",
          "data": {
            "image/png": "[encoded data removed]",
            "text/plain": [
              "<Figure size 432x288 with 1 Axes>"
            ]
          },
          "metadata": {
            "tags": [],
            "needs_background": "light"
          }
        }
      ]
    },
    {
      "cell_type": "code",
      "metadata": {
        "id": "X3zsdbme6-RF",
        "colab_type": "code",
        "outputId": "78a9d284-fe5d-4d36-8e63-c09662895eb0",
        "colab": {
          "base_uri": "https://localhost:8080/",
          "height": 265
        }
      },
      "source": [
        "plt.plot(similarity_matrix[14,:],'*');\n",
        "plt.xticks(np.arange(20), alphabet);\n",
        "plt.ylabel('probability');"
      ],
      "execution_count": 0,
      "outputs": [
        {
          "output_type": "display_data",
          "data": {
            "image/png": "[encoded data removed]",
            "text/plain": [
              "<Figure size 432x288 with 1 Axes>"
            ]
          },
          "metadata": {
            "tags": [],
            "needs_background": "light"
          }
        }
      ]
    },
    {
      "cell_type": "code",
      "metadata": {
        "id": "yosFIpkVCZKH",
        "colab_type": "code",
        "colab": {}
      },
      "source": [
        "seq = np.random.randint(0,20,size=(64))"
      ],
      "execution_count": 0,
      "outputs": []
    },
    {
      "cell_type": "code",
      "metadata": {
        "id": "vBnEYfVMCIMW",
        "colab_type": "code",
        "colab": {}
      },
      "source": [
        "seq_1hot = np.eye(20)[seq]"
      ],
      "execution_count": 0,
      "outputs": []
    },
    {
      "cell_type": "code",
      "metadata": {
        "id": "boe_5nUCCT-H",
        "colab_type": "code",
        "outputId": "df586b04-ff1e-4404-ec8e-a56eb9207cd5",
        "colab": {
          "base_uri": "https://localhost:8080/",
          "height": 34
        }
      },
      "source": [
        "seq_1hot.shape"
      ],
      "execution_count": 0,
      "outputs": [
        {
          "output_type": "execute_result",
          "data": {
            "text/plain": [
              "(64, 20)"
            ]
          },
          "metadata": {
            "tags": []
          },
          "execution_count": 76
        }
      ]
    },
    {
      "cell_type": "code",
      "metadata": {
        "id": "yQ8V8dn_Clh9",
        "colab_type": "code",
        "outputId": "7c133676-8335-40f3-a808-9b7baaec059a",
        "colab": {
          "base_uri": "https://localhost:8080/",
          "height": 309
        }
      },
      "source": [
        "plt.figure(figsize=(15,12))\n",
        "plt.imshow(seq_1hot.T)\n",
        "plt.yticks(np.arange(20), alphabet);"
      ],
      "execution_count": 0,
      "outputs": [
        {
          "output_type": "display_data",
          "data": {
            "image/png": "[encoded data removed]",
            "text/plain": [
              "<Figure size 1080x864 with 1 Axes>"
            ]
          },
          "metadata": {
            "tags": [],
            "needs_background": "light"
          }
        }
      ]
    },
    {
      "cell_type": "code",
      "metadata": {
        "id": "XUa006dsCdPD",
        "colab_type": "code",
        "colab": {}
      },
      "source": [
        "soft_labels = seq_1hot @ similarity_matrix"
      ],
      "execution_count": 0,
      "outputs": []
    },
    {
      "cell_type": "code",
      "metadata": {
        "id": "AYF0wg8zCjkn",
        "colab_type": "code",
        "outputId": "de5f1000-c580-4770-bddc-8958e5cbbbd7",
        "colab": {
          "base_uri": "https://localhost:8080/",
          "height": 309
        }
      },
      "source": [
        "plt.figure(figsize=(15,12))\n",
        "plt.imshow(soft_labels.T)\n",
        "plt.yticks(np.arange(20), alphabet);"
      ],
      "execution_count": 0,
      "outputs": [
        {
          "output_type": "display_data",
          "data": {
            "image/png": "[encoded data removed]",
            "text/plain": [
              "<Figure size 1080x864 with 1 Axes>"
            ]
          },
          "metadata": {
            "tags": [],
            "needs_background": "light"
          }
        }
      ]
    },
    {
      "cell_type": "code",
      "metadata": {
        "id": "n51DWOe8C5D_",
        "colab_type": "code",
        "colab": {}
      },
      "source": [
        ""
      ],
      "execution_count": 0,
      "outputs": []
    }
  ]
}